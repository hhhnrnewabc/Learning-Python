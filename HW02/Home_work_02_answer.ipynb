{
 "metadata": {
  "name": "",
  "signature": "sha256:4d58f702f9f5acc9d39685559ac4bce7c28e8a4b03008215abe3c3f3c699b9c4"
 },
 "nbformat": 3,
 "nbformat_minor": 0,
 "worksheets": [
  {
   "cells": [
    {
     "cell_type": "heading",
     "level": 1,
     "metadata": {},
     "source": [
      "Home Work 02"
     ]
    },
    {
     "cell_type": "heading",
     "level": 2,
     "metadata": {},
     "source": [
      "\u7b2c\u4e00\u984c\uff1a"
     ]
    },
    {
     "cell_type": "markdown",
     "metadata": {},
     "source": [
      "###\u70ba\u8cbb\u6c0f\u6578\u5217\u5beb\u4e00\u500bcache\uff0c\u589e\u52a0\u57f7\u884c\u6548\u7387\n",
      "\n",
      "\n",
      "\u8cbb\u6ce2\u90a3\u5951\u6578\u5217\uff08\u7fa9\u5927\u5229\u8a9e\uff1aSuccessione di Fibonacci\uff09\uff0c\u53c8\u8b6f\u8cbb\u6ce2\u62ff\u5951\u6578\u3001\u6590\u6ce2\u90a3\u5951\u6578\u5217\u3001\u8cbb\u6c0f\u6578\u5217\u3001\u9ec3\u91d1\u5206\u5272\u6578\u5217\u3002\n",
      "\n",
      "\u5728\u6578\u5b78\u4e0a\uff0c\u8cbb\u6ce2\u90a3\u5951\u6578\u5217\u662f\u4ee5\u905e\u8ff4(\u905e\u6b78)\u7684\u65b9\u6cd5\u4f86\u5b9a\u7fa9\uff1a\n",
      "\n",
      "\\begin{align} F_0 & = 0 \\\\ F_1 & = 1  \\\\ F_n & = F_{n-1} + F_{n-2}(n\u22672) \\\\ \\end{align}"
     ]
    },
    {
     "cell_type": "heading",
     "level": 3,
     "metadata": {},
     "source": [
      "sample code:"
     ]
    },
    {
     "cell_type": "code",
     "collapsed": false,
     "input": [
      "def fib(n):\n",
      "    return n if n < 2 else fib(n-2) + fib(n-1)"
     ],
     "language": "python",
     "metadata": {},
     "outputs": []
    },
    {
     "cell_type": "heading",
     "level": 4,
     "metadata": {},
     "source": [
      "\u63d0\u793a\uff1a\u53ef\u4ee5\u4f7f\u7528 [Python Decorator](https://wiki.python.org/moin/PythonDecorators)  "
     ]
    },
    {
     "cell_type": "heading",
     "level": 5,
     "metadata": {},
     "source": [
      "dict \u7684\u4f7f\u7528"
     ]
    },
    {
     "cell_type": "heading",
     "level": 3,
     "metadata": {},
     "source": [
      "Answer:"
     ]
    },
    {
     "cell_type": "code",
     "collapsed": false,
     "input": [
      "def memoize(f):\n",
      "    cache = {}\n",
      "    def decorated_function(*args):\n",
      "        if args in cache:\n",
      "            return cache[args]\n",
      "        else:\n",
      "            cache[args] = f(*args)\n",
      "            return cache[args]\n",
      "    return decorated_function\n",
      "\n",
      "\n",
      "@memoize\n",
      "def fib(n):\n",
      "    return n if n < 2 else fib(n-2) + fib(n-1)"
     ],
     "language": "python",
     "metadata": {},
     "outputs": []
    },
    {
     "cell_type": "heading",
     "level": 2,
     "metadata": {},
     "source": [
      "\u7b2c\u4e8c\u984c\uff1a"
     ]
    },
    {
     "cell_type": "markdown",
     "metadata": {},
     "source": [
      "###MVC \u586b\u7a7a\u984c\n",
      "\n",
      "\u4fee\u6539\u4e0b\u5217\u7684sample code \u4f7f\u5176\u6b63\u5e38\u904b\u4f5c"
     ]
    },
    {
     "cell_type": "heading",
     "level": 3,
     "metadata": {},
     "source": [
      "sample code:"
     ]
    },
    {
     "cell_type": "code",
     "collapsed": false,
     "input": [
      "import tkinter as tk\n",
      "\n",
      "\n",
      "class Observable:\n",
      "    def __init__(self, initialValue=None):\n",
      "        self.data = initialValue\n",
      "        self.callbacks = {}\n",
      "\n",
      "    def addCallback(self, func):\n",
      "        self.callbacks[func] = True\n",
      "\n",
      "    def delCallback(self, func):\n",
      "        del self.callback[func]\n",
      "\n",
      "    def _docallbacks(self):\n",
      "        for func in self.callbacks:\n",
      "             func(self.data)\n",
      "\n",
      "    def set(self, data):\n",
      "        self.data = data\n",
      "        self._docallbacks()\n",
      "\n",
      "    def get(self):\n",
      "        return self.data\n",
      "\n",
      "    def unset(self):\n",
      "        self.data = None\n",
      "\n",
      "\n",
      "class Model:\n",
      "    def __init__(self):\n",
      "        self.myMoney = Observable(0)\n",
      "\n",
      "    def addMoney(self, value):\n",
      "        self.myMoney.set(self.myMoney.get() + value)\n",
      "\n",
      "    def removeMoney(self, value):\n",
      "        self.myMoney.set(self.myMoney.get() - value)\n",
      "\n",
      "\n",
      "class View(tk.Toplevel):\n",
      "    def __init__(self, master):\n",
      "        tk.Toplevel.__init__(self, master)\n",
      "        self.protocol('WM_DELETE_WINDOW', self.master.destroy)\n",
      "        tk.Label(self, text='My Money').pack(side='left')\n",
      "        self.moneyCtrl = tk.Entry(self, width=8)\n",
      "        self.moneyCtrl.pack(side='left')\n",
      "        \n",
      "    def SetMoney(self, money):\n",
      "        self.moneyCtrl.delete(0,'end')\n",
      "        self.moneyCtrl.insert('end', str(money))        \n",
      "\n",
      "\n",
      "class ChangerWidget(tk.Toplevel):\n",
      "    def __init__(self, master):\n",
      "        tk.Toplevel.__init__(self, master)\n",
      "        self.addButton = tk.Button(self, text='Add', width=8)\n",
      "        self.addButton.pack(side='left')\n",
      "        self.removeButton = tk.Button(self, text='Remove', width=8)\n",
      "        self.removeButton.pack(side='left')        \n",
      "\n",
      "\n",
      "class Controller:\n",
      "    def __init__(self, root):\n",
      "        self.model = Model()\n",
      "        #\n",
      "        #\u5728\u9019\u88e1\u586b\u5165\u7a0b\u5f0f \u4f7fmodel \u8ddf controller \u9023\u63a5\n",
      "        #\n",
      "        self.view1 = View(root)\n",
      "        self.view2 = ChangerWidget(self.view1)\n",
      "        self.view2.addButton.config(command=self.AddMoney)\n",
      "        self.view2.removeButton.config(command=self.RemoveMoney)\n",
      "        self.MoneyChanged(self.model.myMoney.get())\n",
      "        \n",
      "    def AddMoney(self):\n",
      "        self.model.addMoney(10)\n",
      "\n",
      "    def RemoveMoney(self):\n",
      "        self.model.removeMoney(10)\n",
      "\n",
      "    def MoneyChanged(self, money):\n",
      "        self.view1.SetMoney(money)\n",
      "\n",
      "\n",
      "if __name__ == '__main__':\n",
      "    root = tk.Tk()\n",
      "    root.withdraw()\n",
      "    app = Controller(root)\n",
      "    root.mainloop()"
     ],
     "language": "python",
     "metadata": {},
     "outputs": []
    },
    {
     "cell_type": "heading",
     "level": 3,
     "metadata": {},
     "source": [
      "Answer:"
     ]
    },
    {
     "cell_type": "code",
     "collapsed": false,
     "input": [
      "import tkinter as tk\n",
      "\n",
      "\n",
      "class Observable:\n",
      "    def __init__(self, initialValue=None):\n",
      "        self.data = initialValue\n",
      "        self.callbacks = {}\n",
      "\n",
      "    def addCallback(self, func):\n",
      "        self.callbacks[func] = True\n",
      "\n",
      "    def delCallback(self, func):\n",
      "        del self.callback[func]\n",
      "\n",
      "    def _docallbacks(self):\n",
      "        for func in self.callbacks:\n",
      "             func(self.data)\n",
      "\n",
      "    def set(self, data):\n",
      "        self.data = data\n",
      "        self._docallbacks()\n",
      "\n",
      "    def get(self):\n",
      "        return self.data\n",
      "\n",
      "    def unset(self):\n",
      "        self.data = None\n",
      "\n",
      "\n",
      "class Model:\n",
      "    def __init__(self):\n",
      "        self.myMoney = Observable(0)\n",
      "\n",
      "    def addMoney(self, value):\n",
      "        self.myMoney.set(self.myMoney.get() + value)\n",
      "\n",
      "    def removeMoney(self, value):\n",
      "        self.myMoney.set(self.myMoney.get() - value)\n",
      "\n",
      "\n",
      "class View(tk.Toplevel):\n",
      "    def __init__(self, master):\n",
      "        tk.Toplevel.__init__(self, master)\n",
      "        self.protocol('WM_DELETE_WINDOW', self.master.destroy)\n",
      "        tk.Label(self, text='My Money').pack(side='left')\n",
      "        self.moneyCtrl = tk.Entry(self, width=8)\n",
      "        self.moneyCtrl.pack(side='left')\n",
      "        \n",
      "    def SetMoney(self, money):\n",
      "        self.moneyCtrl.delete(0,'end')\n",
      "        self.moneyCtrl.insert('end', str(money))        \n",
      "\n",
      "\n",
      "class ChangerWidget(tk.Toplevel):\n",
      "    def __init__(self, master):\n",
      "        tk.Toplevel.__init__(self, master)\n",
      "        self.addButton = tk.Button(self, text='Add', width=8)\n",
      "        self.addButton.pack(side='left')\n",
      "        self.removeButton = tk.Button(self, text='Remove', width=8)\n",
      "        self.removeButton.pack(side='left')        \n",
      "\n",
      "\n",
      "class Controller:\n",
      "    def __init__(self, root):\n",
      "        self.model = Model()\n",
      "        #\n",
      "        #\u5728\u9019\u88e1\u586b\u5165\u7a0b\u5f0f \u4f7fmodel \u8ddf controller \u9023\u63a5\n",
      "        self.model.myMoney.addCallback(self.MoneyChanged)\n",
      "        #\n",
      "        self.view1 = View(root)\n",
      "        self.view2 = ChangerWidget(self.view1)\n",
      "        self.view2.addButton.config(command=self.AddMoney)\n",
      "        self.view2.removeButton.config(command=self.RemoveMoney)\n",
      "        self.MoneyChanged(self.model.myMoney.get())\n",
      "        \n",
      "    def AddMoney(self):\n",
      "        self.model.addMoney(10)\n",
      "\n",
      "    def RemoveMoney(self):\n",
      "        self.model.removeMoney(10)\n",
      "\n",
      "    def MoneyChanged(self, money):\n",
      "        self.view1.SetMoney(money)\n",
      "\n",
      "\n",
      "if __name__ == '__main__':\n",
      "    root = tk.Tk()\n",
      "    root.withdraw()\n",
      "    app = Controller(root)\n",
      "    root.mainloop()"
     ],
     "language": "python",
     "metadata": {},
     "outputs": [],
     "prompt_number": 1
    },
    {
     "cell_type": "code",
     "collapsed": false,
     "input": [],
     "language": "python",
     "metadata": {},
     "outputs": []
    }
   ],
   "metadata": {}
  }
 ]
}