{
 "metadata": {
  "name": "",
  "signature": "sha256:149ffcd061f8d80fb0348e0f2e7ee3d527d8c6e6ae487800eea8f16f93643a17"
 },
 "nbformat": 3,
 "nbformat_minor": 0,
 "worksheets": [
  {
   "cells": [
    {
     "cell_type": "markdown",
     "metadata": {},
     "source": [
      "\n",
      "#http://goo.gl/KNuxGJ"
     ]
    },
    {
     "cell_type": "markdown",
     "metadata": {
      "slideshow": {
       "slide_type": "slide"
      }
     },
     "source": [
      "#lxml\n",
      "\n",
      "###doc:\n",
      "\n",
      "- http://lxml.de/index.html#documentation\n",
      "\n",
      "- http://infohost.nmt.edu/tcc/help/pubs/pylxml/web/index.html\n",
      "\n"
     ]
    },
    {
     "cell_type": "code",
     "collapsed": false,
     "input": [
      "from IPython.display import HTML\n",
      "HTML('<iframe src=http://lxml.de/index.html#documentation width=100% height=500></iframe>')"
     ],
     "language": "python",
     "metadata": {},
     "outputs": [
      {
       "html": [
        "<iframe src=http://lxml.de/index.html#documentation width=100% height=500></iframe>"
       ],
       "metadata": {},
       "output_type": "pyout",
       "prompt_number": 1,
       "text": [
        "<IPython.core.display.HTML at 0x1088bb1d0>"
       ]
      }
     ],
     "prompt_number": 1
    },
    {
     "cell_type": "code",
     "collapsed": false,
     "input": [
      "HTML('<iframe src=http://infohost.nmt.edu/tcc/help/pubs/pylxml/web/index.html width=100% height=500></iframe>')"
     ],
     "language": "python",
     "metadata": {},
     "outputs": [
      {
       "html": [
        "<iframe src=http://infohost.nmt.edu/tcc/help/pubs/pylxml/web/index.html width=100% height=500></iframe>"
       ],
       "metadata": {},
       "output_type": "pyout",
       "prompt_number": 2,
       "text": [
        "<IPython.core.display.HTML at 0x1080049b0>"
       ]
      }
     ],
     "prompt_number": 2
    },
    {
     "cell_type": "markdown",
     "metadata": {
      "slideshow": {
       "slide_type": "slide"
      }
     },
     "source": [
      "###Element"
     ]
    },
    {
     "cell_type": "markdown",
     "metadata": {
      "slideshow": {
       "slide_type": "-"
      }
     },
     "source": [
      "```<p>To find out <em>more</em>, see the\n",
      "<a href=\"http://www.w3.org/XML\">standard</a>.</p>\n",
      "```"
     ]
    },
    {
     "cell_type": "markdown",
     "metadata": {},
     "source": [
      "![Element][element]\n",
      "[element]: pic/et-view.png \"Element\""
     ]
    },
    {
     "cell_type": "code",
     "collapsed": false,
     "input": [
      "from lxml import etree"
     ],
     "language": "python",
     "metadata": {
      "slideshow": {
       "slide_type": "subslide"
      }
     },
     "outputs": [],
     "prompt_number": 3
    },
    {
     "cell_type": "code",
     "collapsed": false,
     "input": [
      "e = etree.HTML(\"\"\"<p>To find out <em>more</em>, see the\n",
      "<a href=\"http://www.w3.org/XML\">standard</a>.</p>\"\"\")"
     ],
     "language": "python",
     "metadata": {
      "slideshow": {
       "slide_type": "fragment"
      }
     },
     "outputs": [],
     "prompt_number": 4
    },
    {
     "cell_type": "code",
     "collapsed": false,
     "input": [
      "print(etree.tostring(e, pretty_print=True).decode())"
     ],
     "language": "python",
     "metadata": {
      "slideshow": {
       "slide_type": "fragment"
      }
     },
     "outputs": [
      {
       "output_type": "stream",
       "stream": "stdout",
       "text": [
        "<html>\n",
        "  <body>\n",
        "    <p>To find out <em>more</em>, see the\n",
        "<a href=\"http://www.w3.org/XML\">standard</a>.</p>\n",
        "  </body>\n",
        "</html>\n",
        "\n"
       ]
      }
     ],
     "prompt_number": 31
    },
    {
     "cell_type": "code",
     "collapsed": false,
     "input": [
      "e.tag, e.text, e.tail, e.attrib"
     ],
     "language": "python",
     "metadata": {
      "slideshow": {
       "slide_type": "fragment"
      }
     },
     "outputs": [
      {
       "metadata": {},
       "output_type": "pyout",
       "prompt_number": 6,
       "text": [
        "('html', None, None, {})"
       ]
      }
     ],
     "prompt_number": 6
    },
    {
     "cell_type": "code",
     "collapsed": false,
     "input": [
      "body = e.getchildren()[0]\n",
      "body\n"
     ],
     "language": "python",
     "metadata": {
      "slideshow": {
       "slide_type": "fragment"
      }
     },
     "outputs": [
      {
       "metadata": {},
       "output_type": "pyout",
       "prompt_number": 7,
       "text": [
        "<Element body at 0x10964a808>"
       ]
      }
     ],
     "prompt_number": 7
    },
    {
     "cell_type": "code",
     "collapsed": false,
     "input": [
      "print(etree.tostring(body, pretty_print=True).decode())\n"
     ],
     "language": "python",
     "metadata": {
      "slideshow": {
       "slide_type": "fragment"
      }
     },
     "outputs": [
      {
       "output_type": "stream",
       "stream": "stdout",
       "text": [
        "<body>\n",
        "  <p>To find out <em>more</em>, see the\n",
        "<a href=\"http://www.w3.org/XML\">standard</a>.</p>\n",
        "</body>\n",
        "\n"
       ]
      }
     ],
     "prompt_number": 8
    },
    {
     "cell_type": "code",
     "collapsed": false,
     "input": [
      "p = body.getchildren()[0]\n",
      "p"
     ],
     "language": "python",
     "metadata": {
      "slideshow": {
       "slide_type": "subslide"
      }
     },
     "outputs": [
      {
       "metadata": {},
       "output_type": "pyout",
       "prompt_number": 9,
       "text": [
        "<Element p at 0x10964ac88>"
       ]
      }
     ],
     "prompt_number": 9
    },
    {
     "cell_type": "code",
     "collapsed": false,
     "input": [
      "p.getchildren()"
     ],
     "language": "python",
     "metadata": {
      "slideshow": {
       "slide_type": "-"
      }
     },
     "outputs": [
      {
       "metadata": {},
       "output_type": "pyout",
       "prompt_number": 10,
       "text": [
        "[<Element em at 0x10964af08>, <Element a at 0x1088ad348>]"
       ]
      }
     ],
     "prompt_number": 10
    },
    {
     "cell_type": "code",
     "collapsed": false,
     "input": [
      "a = p.getchildren()[1]\n",
      "a"
     ],
     "language": "python",
     "metadata": {},
     "outputs": [
      {
       "metadata": {},
       "output_type": "pyout",
       "prompt_number": 11,
       "text": [
        "<Element a at 0x1088ad348>"
       ]
      }
     ],
     "prompt_number": 11
    },
    {
     "cell_type": "code",
     "collapsed": false,
     "input": [
      "a .get(\"href\")"
     ],
     "language": "python",
     "metadata": {
      "slideshow": {
       "slide_type": "fragment"
      }
     },
     "outputs": [
      {
       "metadata": {},
       "output_type": "pyout",
       "prompt_number": 12,
       "text": [
        "'http://www.w3.org/XML'"
       ]
      }
     ],
     "prompt_number": 12
    },
    {
     "cell_type": "code",
     "collapsed": false,
     "input": [
      "a.tail"
     ],
     "language": "python",
     "metadata": {
      "slideshow": {
       "slide_type": "fragment"
      }
     },
     "outputs": [
      {
       "metadata": {},
       "output_type": "pyout",
       "prompt_number": 13,
       "text": [
        "'.'"
       ]
      }
     ],
     "prompt_number": 13
    },
    {
     "cell_type": "markdown",
     "metadata": {
      "slideshow": {
       "slide_type": "fragment"
      }
     },
     "source": [
      "![Element]( pic/et-view.png \"Element\")"
     ]
    },
    {
     "cell_type": "markdown",
     "metadata": {
      "slideshow": {
       "slide_type": "slide"
      }
     },
     "source": [
      "###\u5be6\u969b\u4f8b\u5b50"
     ]
    },
    {
     "cell_type": "code",
     "collapsed": false,
     "input": [
      "import os, time\n",
      "import subprocess\n",
      "\n",
      "NID = 'D0001179'\n",
      "Password = None\n",
      "\n",
      "cmd = \\\n",
      "'''curl -c data/cookies.txt -d \"userID={NID}&userPW={Password}&Button2=%B5n%A4J\" -e \"sdsweb.oit.fcu.edu.tw/coursequest/advance.jsp\" -iv  http://sdsweb.oit.fcu.edu.tw/coursequest/condition.jsp'''\n",
      "if not Password:\n",
      "    Password = input(\"{NID}, please type your password:\".format(NID=NID))\n",
      "\n",
      "print(\"Get cookies\")\n",
      "subprocess.Popen(cmd.format(NID=NID, Password=Password), shell=True)\n",
      "\n",
      "YEAR = 103\n",
      "SEMESTER = 1\n",
      "\n",
      "cmd = '''curl -d \"yms_year={year}&yms_smester={semester}&teacher=&subject=&class=&room=&week={week}&start={start}&end={end}&submit1=%ACd++%B8%DF\"''' + \\\n",
      "      ''' -b data/cookies.txt -A \"Mozilla/5.0\" -e \"sdsweb.oit.fcu.edu.tw/coursequest/advance.jsp\" -iv -o data/page{file_first}_{file_end}.html http://sdsweb.oit.fcu.edu.tw/coursequest/advancelist.jsp''' \n",
      "      #''' ; cat data/page{file_first}_{file_end}.html | iconv -f big5 -t utf-8 > data/page{file_first}_{file_end}.html '''\n",
      "\n",
      "os.system('pwd')\n",
      "\n",
      "\n",
      "subprocess.call(\"ls -al\", shell=True)\n",
      "\n",
      "for i in range(1, 8):\n",
      "    for x in range(1, 8, 6):\n",
      "        p = subprocess.Popen(cmd.format(week=i, start=x, end=x+6, year=YEAR, semester=SEMESTER, file_first=i, file_end=x), shell=True)\n",
      "        print(cmd.format(week=i, start=x, end=x+6, year=YEAR, semester=SEMESTER, file_first=i, file_end=x))\n",
      "        \n",
      "        #\u7b49\u5f85 curl \u5b8c\u6210\n",
      "        p.wait()\n",
      "        import codecs\n",
      "        BLOCKSIZE = 1048576 # or some other, desired size in bytes\n",
      "        with codecs.open('data/page{file_first}_{file_end}.html'.format(file_first=i, file_end=x), \"r\", \"big5\") as sourceFile:\n",
      "            with codecs.open('data/page{file_first}_{file_end}_utf8.html'.format(file_first=i, file_end=x), \"w\", \"utf-8\") as targetFile:\n",
      "                while True:\n",
      "                    contents = sourceFile.read(BLOCKSIZE)\n",
      "                    if not contents:\n",
      "                        break\n",
      "                    targetFile.write(contents)\n",
      "            \n",
      "        time.sleep(3)\n"
     ],
     "language": "python",
     "metadata": {},
     "outputs": []
    },
    {
     "cell_type": "code",
     "collapsed": false,
     "input": [
      "ls -al data/*utf8.html"
     ],
     "language": "python",
     "metadata": {},
     "outputs": [
      {
       "output_type": "stream",
       "stream": "stdout",
       "text": [
        "-rw-r--r--  1 swim  staff  373830 Jul 17 10:14 data/page1_1_utf8.html\r\n",
        "-rw-r--r--  1 swim  staff  379160 Jul 17 10:14 data/page1_7_utf8.html\r\n",
        "-rw-r--r--  1 swim  staff  430447 Jul 17 10:15 data/page2_1_utf8.html\r\n",
        "-rw-r--r--  1 swim  staff  394443 Jul 17 10:15 data/page2_7_utf8.html\r\n",
        "-rw-r--r--  1 swim  staff  469271 Jul 17 10:15 data/page3_1_utf8.html\r\n",
        "-rw-r--r--  1 swim  staff  345855 Jul 17 10:15 data/page3_7_utf8.html\r\n",
        "-rw-r--r--  1 swim  staff  404237 Jul 17 10:15 data/page4_1_utf8.html\r\n",
        "-rw-r--r--  1 swim  staff  300558 Jul 17 10:15 data/page4_7_utf8.html\r\n",
        "-rw-r--r--  1 swim  staff  296875 Jul 17 10:15 data/page5_1_utf8.html\r\n",
        "-rw-r--r--  1 swim  staff  142169 Jul 17 10:15 data/page5_7_utf8.html\r\n",
        "-rw-r--r--  1 swim  staff   74844 Jul 17 10:15 data/page6_1_utf8.html\r\n",
        "-rw-r--r--  1 swim  staff   63929 Jul 17 10:16 data/page6_7_utf8.html\r\n",
        "-rw-r--r--  1 swim  staff   22791 Jul 17 10:16 data/page7_1_utf8.html\r\n",
        "-rw-r--r--  1 swim  staff   11691 Jul 17 10:16 data/page7_7_utf8.html\r\n"
       ]
      }
     ],
     "prompt_number": 14
    },
    {
     "cell_type": "code",
     "collapsed": false,
     "input": [
      "HTML('<iframe src=data/page1_1_utf8.html width=100% height=700></iframe>')"
     ],
     "language": "python",
     "metadata": {
      "slideshow": {
       "slide_type": "subslide"
      }
     },
     "outputs": [
      {
       "html": [
        "<iframe src=data/page1_1_utf8.html width=100% height=700></iframe>"
       ],
       "metadata": {},
       "output_type": "pyout",
       "prompt_number": 15,
       "text": [
        "<IPython.core.display.HTML at 0x10964da58>"
       ]
      }
     ],
     "prompt_number": 15
    },
    {
     "cell_type": "markdown",
     "metadata": {
      "slideshow": {
       "slide_type": "subslide"
      }
     },
     "source": [
      "###DATA\n",
      "\n",
      "```\n",
      "<TABLE align=center>\n",
      "\t<TR >\n",
      "\t\t<th width=50>\u9078\u8ab2<br>\u4ee3\u78bc</th>\n",
      "\t\t<th>\u79d1\u76ee\u540d\u7a31</th>\n",
      "\t\t<th>\u958b\u8ab2\u5225</th>\n",
      "\t\t<th>\u5b78\u5206</th>\n",
      "\t\t<th>\u671f\u4e2d\u8003</th>\n",
      "\t\t<th>\u671f\u672b\u8003</th>\n",
      "\t\t<th>\u63d0\u524d\u8003</th>\n",
      "\n",
      "\t\t<th>\u958b\u8ab2\u73ed\u7d1a</th>\n",
      "\n",
      "\t\t<th>\u4e0a\u8ab2\u6642\u9593/\u4e0a\u8ab2\u6559\u5ba4/\u6388\u8ab2\u6559\u5e2b</th>\n",
      "\n",
      "\t\t<th>\u958b\u653e\u540d\u984d </th>\t\n",
      "\t\t<th>\u8ab2\u7a0b\u985e\u578b</th>\n",
      "\t\t<th width=\"150\">\u5099\u8a3b</th>\n",
      "    </TR >\n",
      "    \n",
      "   \t<TR class=\"row1\">\n",
      "\t\t<TD width=50 >0011</TD>\n",
      "\t\t<TD >\n",
      "            <A href=\"../coursequest/course/coursesummary.jsp?strCourseId=1031CB0010173800001CEAR221  \">CEAR221  \u74b0\u5883\u79d1\u5b78\u6982\u8ad6</A>\n",
      "        </TD>\n",
      "\t\t<TD >\u5b78\u671f</TD>\n",
      "\t\t<TD >2</TD>\n",
      "\t\t<TD >\u5426</TD>\n",
      "\t\t<TD >\u5426</TD>\n",
      "\t\t<TD >\u5426</TD>\n",
      "\t\t<TD >\n",
      "            <A href=\"../coursequest/classess/coursetablebyclass.jsp?yms_year=103&yms_smester=1&cls_id=CB00101\">\u5546\u5b78\u9662\u7d9c\u5408\u73ed</A>\n",
      "\t\t</TD>\n",
      "\n",
      "\t\t<TD >(\u4e00)03-04 \u5546102 \u5442\u6643\u5fd7</TD>\n",
      "\t\t<TD >70</TD>\n",
      "\t\t<TD ></TD>\n",
      "\t\t<TD width=\"150\">\u7da0\u8272\u6703\u8a08\u5b78\u7a0b</TD>\n",
      "\t</TR>\n",
      "```\n",
      ".......\n",
      "\n",
      "`</TABLE>`"
     ]
    },
    {
     "cell_type": "code",
     "collapsed": false,
     "input": [
      "page = etree.HTML(open('data/page1_1_utf8.html','rb').read().decode('utf-8'))"
     ],
     "language": "python",
     "metadata": {
      "slideshow": {
       "slide_type": "subslide"
      }
     },
     "outputs": [],
     "prompt_number": 16
    },
    {
     "cell_type": "code",
     "collapsed": false,
     "input": [
      "hrefs = page.xpath('//table/tr')\n",
      "hrefs"
     ],
     "language": "python",
     "metadata": {
      "slideshow": {
       "slide_type": "fragment"
      }
     },
     "outputs": [
      {
       "metadata": {},
       "output_type": "pyout",
       "prompt_number": 17,
       "text": [
        "[<Element tr at 0x10964f408>,\n",
        " <Element tr at 0x10964f088>,\n",
        " <Element tr at 0x10964f188>,\n",
        " <Element tr at 0x10964f448>,\n",
        " <Element tr at 0x10964f108>,\n",
        " <Element tr at 0x10964f048>,\n",
        " <Element tr at 0x10964f288>,\n",
        " <Element tr at 0x10964f2c8>,\n",
        " <Element tr at 0x10964f0c8>,\n",
        " <Element tr at 0x10964f7c8>,\n",
        " <Element tr at 0x10964f808>,\n",
        " <Element tr at 0x10964f848>,\n",
        " <Element tr at 0x10964f888>,\n",
        " <Element tr at 0x10964f8c8>,\n",
        " <Element tr at 0x10964f908>,\n",
        " <Element tr at 0x10964f948>,\n",
        " <Element tr at 0x10964f988>,\n",
        " <Element tr at 0x10964f9c8>,\n",
        " <Element tr at 0x10964fa08>,\n",
        " <Element tr at 0x10964fa48>,\n",
        " <Element tr at 0x10964fa88>,\n",
        " <Element tr at 0x10964fac8>,\n",
        " <Element tr at 0x10964fb08>,\n",
        " <Element tr at 0x10964fb48>,\n",
        " <Element tr at 0x10964fb88>,\n",
        " <Element tr at 0x10964fbc8>,\n",
        " <Element tr at 0x10964fc08>,\n",
        " <Element tr at 0x10964fc48>,\n",
        " <Element tr at 0x10964fc88>,\n",
        " <Element tr at 0x10964fcc8>,\n",
        " <Element tr at 0x10964fd08>,\n",
        " <Element tr at 0x10964fd48>,\n",
        " <Element tr at 0x10964fd88>,\n",
        " <Element tr at 0x10964fdc8>,\n",
        " <Element tr at 0x10964fe08>,\n",
        " <Element tr at 0x10964fe48>,\n",
        " <Element tr at 0x10964fe88>,\n",
        " <Element tr at 0x10964fec8>,\n",
        " <Element tr at 0x10964ff08>,\n",
        " <Element tr at 0x10964ff48>,\n",
        " <Element tr at 0x10964ff88>,\n",
        " <Element tr at 0x10964ffc8>,\n",
        " <Element tr at 0x10966e048>,\n",
        " <Element tr at 0x10966e088>,\n",
        " <Element tr at 0x10966e0c8>,\n",
        " <Element tr at 0x10966e108>,\n",
        " <Element tr at 0x10966e148>,\n",
        " <Element tr at 0x10966e188>,\n",
        " <Element tr at 0x10966e1c8>,\n",
        " <Element tr at 0x10966e208>,\n",
        " <Element tr at 0x10966e248>,\n",
        " <Element tr at 0x10966e288>,\n",
        " <Element tr at 0x10966e2c8>,\n",
        " <Element tr at 0x10966e308>,\n",
        " <Element tr at 0x10966e348>,\n",
        " <Element tr at 0x10966e388>,\n",
        " <Element tr at 0x10966e3c8>,\n",
        " <Element tr at 0x10966e408>,\n",
        " <Element tr at 0x10966e448>,\n",
        " <Element tr at 0x10966e488>,\n",
        " <Element tr at 0x10966e4c8>,\n",
        " <Element tr at 0x10966e508>,\n",
        " <Element tr at 0x10966e548>,\n",
        " <Element tr at 0x10966e588>,\n",
        " <Element tr at 0x10966e5c8>,\n",
        " <Element tr at 0x10966e608>,\n",
        " <Element tr at 0x10966e648>,\n",
        " <Element tr at 0x10966e688>,\n",
        " <Element tr at 0x10966e6c8>,\n",
        " <Element tr at 0x10966e708>,\n",
        " <Element tr at 0x10966e748>,\n",
        " <Element tr at 0x10966e788>,\n",
        " <Element tr at 0x10966e7c8>,\n",
        " <Element tr at 0x10966e808>,\n",
        " <Element tr at 0x10966e848>,\n",
        " <Element tr at 0x10966e888>,\n",
        " <Element tr at 0x10966e8c8>,\n",
        " <Element tr at 0x10966e908>,\n",
        " <Element tr at 0x10966e948>,\n",
        " <Element tr at 0x10966e988>,\n",
        " <Element tr at 0x10966e9c8>,\n",
        " <Element tr at 0x10966ea08>,\n",
        " <Element tr at 0x10966ea48>,\n",
        " <Element tr at 0x10966ea88>,\n",
        " <Element tr at 0x10966eac8>,\n",
        " <Element tr at 0x10966eb08>,\n",
        " <Element tr at 0x10966eb48>,\n",
        " <Element tr at 0x10966eb88>,\n",
        " <Element tr at 0x10966ebc8>,\n",
        " <Element tr at 0x10966ec08>,\n",
        " <Element tr at 0x10966ec48>,\n",
        " <Element tr at 0x10966ec88>,\n",
        " <Element tr at 0x10966ecc8>,\n",
        " <Element tr at 0x10966ed08>,\n",
        " <Element tr at 0x10966ed48>,\n",
        " <Element tr at 0x10966ed88>,\n",
        " <Element tr at 0x10966edc8>,\n",
        " <Element tr at 0x10966ee08>,\n",
        " <Element tr at 0x10966ee48>,\n",
        " <Element tr at 0x10966ee88>,\n",
        " <Element tr at 0x10966eec8>,\n",
        " <Element tr at 0x10966ef08>,\n",
        " <Element tr at 0x10966ef48>,\n",
        " <Element tr at 0x10966ef88>,\n",
        " <Element tr at 0x10966efc8>,\n",
        " <Element tr at 0x10966f048>,\n",
        " <Element tr at 0x10966f088>,\n",
        " <Element tr at 0x10966f0c8>,\n",
        " <Element tr at 0x10966f108>,\n",
        " <Element tr at 0x10966f148>,\n",
        " <Element tr at 0x10966f188>,\n",
        " <Element tr at 0x10966f1c8>,\n",
        " <Element tr at 0x10966f208>,\n",
        " <Element tr at 0x10966f248>,\n",
        " <Element tr at 0x10966f288>,\n",
        " <Element tr at 0x10966f2c8>,\n",
        " <Element tr at 0x10966f308>,\n",
        " <Element tr at 0x10966f348>,\n",
        " <Element tr at 0x10966f388>,\n",
        " <Element tr at 0x10966f3c8>,\n",
        " <Element tr at 0x10966f408>,\n",
        " <Element tr at 0x10966f448>,\n",
        " <Element tr at 0x10966f488>,\n",
        " <Element tr at 0x10966f4c8>,\n",
        " <Element tr at 0x10966f508>,\n",
        " <Element tr at 0x10966f548>,\n",
        " <Element tr at 0x10966f588>,\n",
        " <Element tr at 0x10966f5c8>,\n",
        " <Element tr at 0x10966f608>,\n",
        " <Element tr at 0x10966f648>,\n",
        " <Element tr at 0x10966f688>,\n",
        " <Element tr at 0x10966f6c8>,\n",
        " <Element tr at 0x10966f708>,\n",
        " <Element tr at 0x10966f748>,\n",
        " <Element tr at 0x10966f788>,\n",
        " <Element tr at 0x10966f7c8>,\n",
        " <Element tr at 0x10966f808>,\n",
        " <Element tr at 0x10966f848>,\n",
        " <Element tr at 0x10966f888>,\n",
        " <Element tr at 0x10966f8c8>,\n",
        " <Element tr at 0x10966f908>,\n",
        " <Element tr at 0x10966f948>,\n",
        " <Element tr at 0x10966f988>,\n",
        " <Element tr at 0x10966f9c8>,\n",
        " <Element tr at 0x10966fa08>,\n",
        " <Element tr at 0x10966fa48>,\n",
        " <Element tr at 0x10966fa88>,\n",
        " <Element tr at 0x10966fac8>,\n",
        " <Element tr at 0x10966fb08>,\n",
        " <Element tr at 0x10966fb48>,\n",
        " <Element tr at 0x10966fb88>,\n",
        " <Element tr at 0x10966fbc8>,\n",
        " <Element tr at 0x10966fc08>,\n",
        " <Element tr at 0x10966fc48>,\n",
        " <Element tr at 0x10966fc88>,\n",
        " <Element tr at 0x10966fcc8>,\n",
        " <Element tr at 0x10966fd08>,\n",
        " <Element tr at 0x10966fd48>,\n",
        " <Element tr at 0x10966fd88>,\n",
        " <Element tr at 0x10966fdc8>,\n",
        " <Element tr at 0x10966fe08>,\n",
        " <Element tr at 0x10966fe48>,\n",
        " <Element tr at 0x10966fe88>,\n",
        " <Element tr at 0x10966fec8>,\n",
        " <Element tr at 0x10966ff08>,\n",
        " <Element tr at 0x10966ff48>,\n",
        " <Element tr at 0x10966ff88>,\n",
        " <Element tr at 0x10966ffc8>,\n",
        " <Element tr at 0x109670048>,\n",
        " <Element tr at 0x109670088>,\n",
        " <Element tr at 0x1096700c8>,\n",
        " <Element tr at 0x109670108>,\n",
        " <Element tr at 0x109670148>,\n",
        " <Element tr at 0x109670188>,\n",
        " <Element tr at 0x1096701c8>,\n",
        " <Element tr at 0x109670208>,\n",
        " <Element tr at 0x109670248>,\n",
        " <Element tr at 0x109670288>,\n",
        " <Element tr at 0x1096702c8>,\n",
        " <Element tr at 0x109670308>,\n",
        " <Element tr at 0x109670348>,\n",
        " <Element tr at 0x109670388>,\n",
        " <Element tr at 0x1096703c8>,\n",
        " <Element tr at 0x109670408>,\n",
        " <Element tr at 0x109670448>,\n",
        " <Element tr at 0x109670488>,\n",
        " <Element tr at 0x1096704c8>,\n",
        " <Element tr at 0x109670508>,\n",
        " <Element tr at 0x109670548>,\n",
        " <Element tr at 0x109670588>,\n",
        " <Element tr at 0x1096705c8>,\n",
        " <Element tr at 0x109670608>,\n",
        " <Element tr at 0x109670648>,\n",
        " <Element tr at 0x109670688>,\n",
        " <Element tr at 0x1096706c8>,\n",
        " <Element tr at 0x109670708>,\n",
        " <Element tr at 0x109670748>,\n",
        " <Element tr at 0x109670788>,\n",
        " <Element tr at 0x1096707c8>,\n",
        " <Element tr at 0x109670808>,\n",
        " <Element tr at 0x109670848>,\n",
        " <Element tr at 0x109670888>,\n",
        " <Element tr at 0x1096708c8>,\n",
        " <Element tr at 0x109670908>,\n",
        " <Element tr at 0x109670948>,\n",
        " <Element tr at 0x109670988>,\n",
        " <Element tr at 0x1096709c8>,\n",
        " <Element tr at 0x109670a08>,\n",
        " <Element tr at 0x109670a48>,\n",
        " <Element tr at 0x109670a88>,\n",
        " <Element tr at 0x109670ac8>,\n",
        " <Element tr at 0x109670b08>,\n",
        " <Element tr at 0x109670b48>,\n",
        " <Element tr at 0x109670b88>,\n",
        " <Element tr at 0x109670bc8>,\n",
        " <Element tr at 0x109670c08>,\n",
        " <Element tr at 0x109670c48>,\n",
        " <Element tr at 0x109670c88>,\n",
        " <Element tr at 0x109670cc8>,\n",
        " <Element tr at 0x109670d08>,\n",
        " <Element tr at 0x109670d48>,\n",
        " <Element tr at 0x109670d88>,\n",
        " <Element tr at 0x109670dc8>,\n",
        " <Element tr at 0x109670e08>,\n",
        " <Element tr at 0x109670e48>,\n",
        " <Element tr at 0x109670e88>,\n",
        " <Element tr at 0x109670ec8>,\n",
        " <Element tr at 0x109670f08>,\n",
        " <Element tr at 0x109670f48>,\n",
        " <Element tr at 0x109670f88>,\n",
        " <Element tr at 0x109670fc8>,\n",
        " <Element tr at 0x109671048>,\n",
        " <Element tr at 0x109671088>,\n",
        " <Element tr at 0x1096710c8>,\n",
        " <Element tr at 0x109671108>,\n",
        " <Element tr at 0x109671148>,\n",
        " <Element tr at 0x109671188>,\n",
        " <Element tr at 0x1096711c8>,\n",
        " <Element tr at 0x109671208>,\n",
        " <Element tr at 0x109671248>,\n",
        " <Element tr at 0x109671288>,\n",
        " <Element tr at 0x1096712c8>,\n",
        " <Element tr at 0x109671308>,\n",
        " <Element tr at 0x109671348>,\n",
        " <Element tr at 0x109671388>,\n",
        " <Element tr at 0x1096713c8>,\n",
        " <Element tr at 0x109671408>,\n",
        " <Element tr at 0x109671448>,\n",
        " <Element tr at 0x109671488>,\n",
        " <Element tr at 0x1096714c8>,\n",
        " <Element tr at 0x109671508>,\n",
        " <Element tr at 0x109671548>,\n",
        " <Element tr at 0x109671588>,\n",
        " <Element tr at 0x1096715c8>,\n",
        " <Element tr at 0x109671608>,\n",
        " <Element tr at 0x109671648>,\n",
        " <Element tr at 0x109671688>,\n",
        " <Element tr at 0x1096716c8>,\n",
        " <Element tr at 0x109671708>,\n",
        " <Element tr at 0x109671748>,\n",
        " <Element tr at 0x109671788>,\n",
        " <Element tr at 0x1096717c8>,\n",
        " <Element tr at 0x109671808>,\n",
        " <Element tr at 0x109671848>,\n",
        " <Element tr at 0x109671888>,\n",
        " <Element tr at 0x1096718c8>,\n",
        " <Element tr at 0x109671908>,\n",
        " <Element tr at 0x109671948>,\n",
        " <Element tr at 0x109671988>,\n",
        " <Element tr at 0x1096719c8>,\n",
        " <Element tr at 0x109671a08>,\n",
        " <Element tr at 0x109671a48>,\n",
        " <Element tr at 0x109671a88>,\n",
        " <Element tr at 0x109671ac8>,\n",
        " <Element tr at 0x109671b08>,\n",
        " <Element tr at 0x109671b48>,\n",
        " <Element tr at 0x109671b88>,\n",
        " <Element tr at 0x109671bc8>,\n",
        " <Element tr at 0x109671c08>,\n",
        " <Element tr at 0x109671c48>,\n",
        " <Element tr at 0x109671c88>,\n",
        " <Element tr at 0x109671cc8>,\n",
        " <Element tr at 0x109671d08>,\n",
        " <Element tr at 0x109671d48>,\n",
        " <Element tr at 0x109671d88>,\n",
        " <Element tr at 0x109671dc8>,\n",
        " <Element tr at 0x109671e08>,\n",
        " <Element tr at 0x109671e48>,\n",
        " <Element tr at 0x109671e88>,\n",
        " <Element tr at 0x109671ec8>,\n",
        " <Element tr at 0x109671f08>,\n",
        " <Element tr at 0x109671f48>,\n",
        " <Element tr at 0x109671f88>,\n",
        " <Element tr at 0x109671fc8>,\n",
        " <Element tr at 0x109672048>,\n",
        " <Element tr at 0x109672088>,\n",
        " <Element tr at 0x1096720c8>,\n",
        " <Element tr at 0x109672108>,\n",
        " <Element tr at 0x109672148>,\n",
        " <Element tr at 0x109672188>,\n",
        " <Element tr at 0x1096721c8>,\n",
        " <Element tr at 0x109672208>,\n",
        " <Element tr at 0x109672248>,\n",
        " <Element tr at 0x109672288>,\n",
        " <Element tr at 0x1096722c8>,\n",
        " <Element tr at 0x109672308>,\n",
        " <Element tr at 0x109672348>,\n",
        " <Element tr at 0x109672388>,\n",
        " <Element tr at 0x1096723c8>,\n",
        " <Element tr at 0x109672408>,\n",
        " <Element tr at 0x109672448>,\n",
        " <Element tr at 0x109672488>,\n",
        " <Element tr at 0x1096724c8>,\n",
        " <Element tr at 0x109672508>,\n",
        " <Element tr at 0x109672548>,\n",
        " <Element tr at 0x109672588>,\n",
        " <Element tr at 0x1096725c8>,\n",
        " <Element tr at 0x109672608>,\n",
        " <Element tr at 0x109672648>,\n",
        " <Element tr at 0x109672688>,\n",
        " <Element tr at 0x1096726c8>,\n",
        " <Element tr at 0x109672708>,\n",
        " <Element tr at 0x109672748>,\n",
        " <Element tr at 0x109672788>,\n",
        " <Element tr at 0x1096727c8>,\n",
        " <Element tr at 0x109672808>,\n",
        " <Element tr at 0x109672848>,\n",
        " <Element tr at 0x109672888>,\n",
        " <Element tr at 0x1096728c8>,\n",
        " <Element tr at 0x109672908>,\n",
        " <Element tr at 0x109672948>,\n",
        " <Element tr at 0x109672988>,\n",
        " <Element tr at 0x1096729c8>,\n",
        " <Element tr at 0x109672a08>,\n",
        " <Element tr at 0x109672a48>,\n",
        " <Element tr at 0x109672a88>,\n",
        " <Element tr at 0x109672ac8>,\n",
        " <Element tr at 0x109672b08>,\n",
        " <Element tr at 0x109672b48>,\n",
        " <Element tr at 0x109672b88>,\n",
        " <Element tr at 0x109672bc8>,\n",
        " <Element tr at 0x109672c08>,\n",
        " <Element tr at 0x109672c48>,\n",
        " <Element tr at 0x109672c88>,\n",
        " <Element tr at 0x109672cc8>,\n",
        " <Element tr at 0x109672d08>,\n",
        " <Element tr at 0x109672d48>,\n",
        " <Element tr at 0x109672d88>,\n",
        " <Element tr at 0x109672dc8>,\n",
        " <Element tr at 0x109672e08>,\n",
        " <Element tr at 0x109672e48>,\n",
        " <Element tr at 0x109672e88>,\n",
        " <Element tr at 0x109672ec8>,\n",
        " <Element tr at 0x109672f08>,\n",
        " <Element tr at 0x109672f48>,\n",
        " <Element tr at 0x109672f88>,\n",
        " <Element tr at 0x109672fc8>,\n",
        " <Element tr at 0x109673048>,\n",
        " <Element tr at 0x109673088>,\n",
        " <Element tr at 0x1096730c8>,\n",
        " <Element tr at 0x109673108>,\n",
        " <Element tr at 0x109673148>,\n",
        " <Element tr at 0x109673188>,\n",
        " <Element tr at 0x1096731c8>,\n",
        " <Element tr at 0x109673208>,\n",
        " <Element tr at 0x109673248>,\n",
        " <Element tr at 0x109673288>,\n",
        " <Element tr at 0x1096732c8>,\n",
        " <Element tr at 0x109673308>,\n",
        " <Element tr at 0x109673348>,\n",
        " <Element tr at 0x109673388>,\n",
        " <Element tr at 0x1096733c8>,\n",
        " <Element tr at 0x109673408>,\n",
        " <Element tr at 0x109673448>,\n",
        " <Element tr at 0x109673488>,\n",
        " <Element tr at 0x1096734c8>,\n",
        " <Element tr at 0x109673508>,\n",
        " <Element tr at 0x109673548>,\n",
        " <Element tr at 0x109673588>,\n",
        " <Element tr at 0x1096735c8>,\n",
        " <Element tr at 0x109673608>,\n",
        " <Element tr at 0x109673648>,\n",
        " <Element tr at 0x109673688>,\n",
        " <Element tr at 0x1096736c8>,\n",
        " <Element tr at 0x109673708>,\n",
        " <Element tr at 0x109673748>,\n",
        " <Element tr at 0x109673788>,\n",
        " <Element tr at 0x1096737c8>,\n",
        " <Element tr at 0x109673808>,\n",
        " <Element tr at 0x109673848>,\n",
        " <Element tr at 0x109673888>,\n",
        " <Element tr at 0x1096738c8>,\n",
        " <Element tr at 0x109673908>,\n",
        " <Element tr at 0x109673948>,\n",
        " <Element tr at 0x109673988>,\n",
        " <Element tr at 0x1096739c8>,\n",
        " <Element tr at 0x109673a08>,\n",
        " <Element tr at 0x109673a48>,\n",
        " <Element tr at 0x109673a88>,\n",
        " <Element tr at 0x109673ac8>,\n",
        " <Element tr at 0x109673b08>,\n",
        " <Element tr at 0x109673b48>,\n",
        " <Element tr at 0x109673b88>,\n",
        " <Element tr at 0x109673bc8>,\n",
        " <Element tr at 0x109673c08>,\n",
        " <Element tr at 0x109673c48>,\n",
        " <Element tr at 0x109673c88>,\n",
        " <Element tr at 0x109673cc8>,\n",
        " <Element tr at 0x109673d08>,\n",
        " <Element tr at 0x109673d48>,\n",
        " <Element tr at 0x109673d88>,\n",
        " <Element tr at 0x109673dc8>,\n",
        " <Element tr at 0x109673e08>,\n",
        " <Element tr at 0x109673e48>,\n",
        " <Element tr at 0x109673e88>,\n",
        " <Element tr at 0x109673ec8>,\n",
        " <Element tr at 0x109673f08>,\n",
        " <Element tr at 0x109673f48>,\n",
        " <Element tr at 0x109673f88>,\n",
        " <Element tr at 0x109673fc8>,\n",
        " <Element tr at 0x109674048>,\n",
        " <Element tr at 0x109674088>,\n",
        " <Element tr at 0x1096740c8>,\n",
        " <Element tr at 0x109674108>,\n",
        " <Element tr at 0x109674148>,\n",
        " <Element tr at 0x109674188>,\n",
        " <Element tr at 0x1096741c8>,\n",
        " <Element tr at 0x109674208>,\n",
        " <Element tr at 0x109674248>,\n",
        " <Element tr at 0x109674288>,\n",
        " <Element tr at 0x1096742c8>,\n",
        " <Element tr at 0x109674308>,\n",
        " <Element tr at 0x109674348>,\n",
        " <Element tr at 0x109674388>,\n",
        " <Element tr at 0x1096743c8>,\n",
        " <Element tr at 0x109674408>,\n",
        " <Element tr at 0x109674448>,\n",
        " <Element tr at 0x109674488>,\n",
        " <Element tr at 0x1096744c8>,\n",
        " <Element tr at 0x109674508>,\n",
        " <Element tr at 0x109674548>,\n",
        " <Element tr at 0x109674588>,\n",
        " <Element tr at 0x1096745c8>,\n",
        " <Element tr at 0x109674608>,\n",
        " <Element tr at 0x109674648>,\n",
        " <Element tr at 0x109674688>,\n",
        " <Element tr at 0x1096746c8>,\n",
        " <Element tr at 0x109674708>,\n",
        " <Element tr at 0x109674748>,\n",
        " <Element tr at 0x109674788>,\n",
        " <Element tr at 0x1096747c8>,\n",
        " <Element tr at 0x109674808>,\n",
        " <Element tr at 0x109674848>,\n",
        " <Element tr at 0x109674888>,\n",
        " <Element tr at 0x1096748c8>,\n",
        " <Element tr at 0x109674908>,\n",
        " <Element tr at 0x109674948>,\n",
        " <Element tr at 0x109674988>,\n",
        " <Element tr at 0x1096749c8>,\n",
        " <Element tr at 0x109674a08>,\n",
        " <Element tr at 0x109674a48>,\n",
        " <Element tr at 0x109674a88>,\n",
        " <Element tr at 0x109674ac8>,\n",
        " <Element tr at 0x109674b08>,\n",
        " <Element tr at 0x109674b48>,\n",
        " <Element tr at 0x109674b88>,\n",
        " <Element tr at 0x109674bc8>,\n",
        " <Element tr at 0x109674c08>,\n",
        " <Element tr at 0x109674c48>,\n",
        " <Element tr at 0x109674c88>,\n",
        " <Element tr at 0x109674cc8>,\n",
        " <Element tr at 0x109674d08>,\n",
        " <Element tr at 0x109674d48>,\n",
        " <Element tr at 0x109674d88>,\n",
        " <Element tr at 0x109674dc8>,\n",
        " <Element tr at 0x109674e08>,\n",
        " <Element tr at 0x109674e48>,\n",
        " <Element tr at 0x109674e88>,\n",
        " <Element tr at 0x109674ec8>,\n",
        " <Element tr at 0x109674f08>,\n",
        " <Element tr at 0x109674f48>,\n",
        " <Element tr at 0x109674f88>,\n",
        " <Element tr at 0x109674fc8>,\n",
        " <Element tr at 0x109675048>,\n",
        " <Element tr at 0x109675088>,\n",
        " <Element tr at 0x1096750c8>,\n",
        " <Element tr at 0x109675108>,\n",
        " <Element tr at 0x109675148>,\n",
        " <Element tr at 0x109675188>,\n",
        " <Element tr at 0x1096751c8>,\n",
        " <Element tr at 0x109675208>,\n",
        " <Element tr at 0x109675248>,\n",
        " <Element tr at 0x109675288>,\n",
        " <Element tr at 0x1096752c8>,\n",
        " <Element tr at 0x109675308>,\n",
        " <Element tr at 0x109675348>,\n",
        " <Element tr at 0x109675388>,\n",
        " <Element tr at 0x1096753c8>,\n",
        " <Element tr at 0x109675408>,\n",
        " <Element tr at 0x109675448>,\n",
        " <Element tr at 0x109675488>,\n",
        " <Element tr at 0x1096754c8>,\n",
        " <Element tr at 0x109675508>,\n",
        " <Element tr at 0x109675548>,\n",
        " <Element tr at 0x109675588>,\n",
        " <Element tr at 0x1096755c8>,\n",
        " <Element tr at 0x109675608>,\n",
        " <Element tr at 0x109675648>,\n",
        " <Element tr at 0x109675688>,\n",
        " <Element tr at 0x1096756c8>,\n",
        " <Element tr at 0x109675708>,\n",
        " <Element tr at 0x109675748>,\n",
        " <Element tr at 0x109675788>,\n",
        " <Element tr at 0x1096757c8>,\n",
        " <Element tr at 0x109675808>,\n",
        " <Element tr at 0x109675848>,\n",
        " <Element tr at 0x109675888>,\n",
        " <Element tr at 0x1096758c8>,\n",
        " <Element tr at 0x109675908>,\n",
        " <Element tr at 0x109675948>,\n",
        " <Element tr at 0x109675988>,\n",
        " <Element tr at 0x1096759c8>,\n",
        " <Element tr at 0x109675a08>,\n",
        " <Element tr at 0x109675a48>,\n",
        " <Element tr at 0x109675a88>,\n",
        " <Element tr at 0x109675ac8>,\n",
        " <Element tr at 0x109675b08>,\n",
        " <Element tr at 0x109675b48>,\n",
        " <Element tr at 0x109675b88>,\n",
        " <Element tr at 0x109675bc8>,\n",
        " <Element tr at 0x109675c08>,\n",
        " <Element tr at 0x109675c48>,\n",
        " <Element tr at 0x109675c88>,\n",
        " <Element tr at 0x109675cc8>,\n",
        " <Element tr at 0x109675d08>,\n",
        " <Element tr at 0x109675d48>]"
       ]
      }
     ],
     "prompt_number": 17
    },
    {
     "cell_type": "code",
     "collapsed": false,
     "input": [
      "print(etree.tostring(hrefs[0], pretty_print=True, encoding='utf-8').decode())"
     ],
     "language": "python",
     "metadata": {
      "slideshow": {
       "slide_type": "subslide"
      }
     },
     "outputs": [
      {
       "output_type": "stream",
       "stream": "stdout",
       "text": [
        "<tr>&#13;\n",
        "\t\t<th width=\"50\">\u9078\u8ab2<br/>\u4ee3\u78bc</th>&#13;\n",
        "\t\t<th>\u79d1\u76ee\u540d\u7a31</th>&#13;\n",
        "\t\t<th>\u958b\u8ab2\u5225</th>&#13;\n",
        "\t\t<th>\u5b78\u5206</th>&#13;\n",
        "\t\t<th>\u671f\u4e2d\u8003</th>&#13;\n",
        "\t\t<th>\u671f\u672b\u8003</th>&#13;\n",
        "\t\t<th>\u63d0\u524d\u8003</th>&#13;\n",
        "&#13;\n",
        "\t\t<th>\u958b\u8ab2\u73ed\u7d1a</th>&#13;\n",
        "&#13;\n",
        "\t\t<th>\u4e0a\u8ab2\u6642\u9593/\u4e0a\u8ab2\u6559\u5ba4/\u6388\u8ab2\u6559\u5e2b</th>&#13;\n",
        "&#13;\n",
        "\t\t<th>\u958b\u653e\u540d\u984d </th>\t&#13;\n",
        "\t\t<th>\u8ab2\u7a0b\u985e\u578b</th>&#13;\n",
        "\t\t<th width=\"150\">\u5099\u8a3b</th>&#13;\n",
        "&#13;\n",
        "   \t</tr>\n",
        "\n"
       ]
      }
     ],
     "prompt_number": 18
    },
    {
     "cell_type": "code",
     "collapsed": false,
     "input": [
      "for th in hrefs[0].xpath('./th'):\n",
      "    print(th.text)"
     ],
     "language": "python",
     "metadata": {},
     "outputs": [
      {
       "output_type": "stream",
       "stream": "stdout",
       "text": [
        "\u9078\u8ab2\n",
        "\u79d1\u76ee\u540d\u7a31\n",
        "\u958b\u8ab2\u5225\n",
        "\u5b78\u5206\n",
        "\u671f\u4e2d\u8003\n",
        "\u671f\u672b\u8003\n",
        "\u63d0\u524d\u8003\n",
        "\u958b\u8ab2\u73ed\u7d1a\n",
        "\u4e0a\u8ab2\u6642\u9593/\u4e0a\u8ab2\u6559\u5ba4/\u6388\u8ab2\u6559\u5e2b\n",
        "\u958b\u653e\u540d\u984d \n",
        "\u8ab2\u7a0b\u985e\u578b\n",
        "\u5099\u8a3b\n"
       ]
      }
     ],
     "prompt_number": 19
    },
    {
     "cell_type": "code",
     "collapsed": false,
     "input": [
      "print(etree.tostring(hrefs[1], pretty_print=True, encoding='utf-8').decode())"
     ],
     "language": "python",
     "metadata": {
      "slideshow": {
       "slide_type": "subslide"
      }
     },
     "outputs": [
      {
       "output_type": "stream",
       "stream": "stdout",
       "text": [
        "<tr class=\"row1\">&#13;\n",
        "\t\t<td width=\"50\">0011</td>&#13;\n",
        "\t\t<td><a href=\"../coursequest/course/coursesummary.jsp?strCourseId=1031CB0010173800001CEAR221  \">CEAR221  \u74b0\u5883\u79d1\u5b78\u6982\u8ad6                                                                    </a></td>&#13;\n",
        "\t\t<td>\u5b78\u671f</td>&#13;\n",
        "\t\t<td>2</td>&#13;\n",
        "\t\t<td>\u5426</td>&#13;\n",
        "\t\t<td>\u5426</td>&#13;\n",
        "\t\t<td>\u5426</td>&#13;\n",
        "\t\t<td>&#13;\n",
        "&#13;\n",
        "                    <a href=\"../coursequest/classess/coursetablebyclass.jsp?yms_year=103&amp;yms_smester=1&amp;cls_id=CB00101\">\u5546\u5b78\u9662\u7d9c\u5408\u73ed                            </a>&#13;\n",
        "&#13;\n",
        "\t\t</td>&#13;\n",
        "&#13;\n",
        "\t\t<td>(\u4e00)03-04 \u5546102 \u5442\u6643\u5fd7</td>&#13;\n",
        "&#13;\n",
        "&#13;\n",
        "\t\t<td>70</td>&#13;\n",
        "\t\t<td>&#13;\n",
        "&#13;\n",
        "&#13;\n",
        "                </td>&#13;\n",
        "\t\t<td width=\"150\">\u7da0\u8272\u6703\u8a08\u5b78\u7a0b</td>&#13;\n",
        "\t</tr>&#13;\n",
        "&#13;\n",
        "   \t\n",
        "\n"
       ]
      }
     ],
     "prompt_number": 20
    },
    {
     "cell_type": "code",
     "collapsed": false,
     "input": [
      "for th in hrefs[1].xpath('./td'):\n",
      "    print(th.text)"
     ],
     "language": "python",
     "metadata": {},
     "outputs": [
      {
       "output_type": "stream",
       "stream": "stdout",
       "text": [
        "0011\n",
        "None\n",
        "\u5b78\u671f\n",
        "2\n",
        "\u5426\n",
        "\u5426\n",
        "\u5426\n",
        "\r\n",
        "\r\n",
        "                    \n",
        "(\u4e00)03-04 \u5546102 \u5442\u6643\u5fd7\n",
        "70\n",
        "\r\n",
        "\r\n",
        "\r\n",
        "                \n",
        "\u7da0\u8272\u6703\u8a08\u5b78\u7a0b\n"
       ]
      }
     ],
     "prompt_number": 21
    },
    {
     "cell_type": "markdown",
     "metadata": {
      "slideshow": {
       "slide_type": "slide"
      }
     },
     "source": [
      "###XPATH\u7684\u5176\u4ed6\u5beb\u6cd5"
     ]
    },
    {
     "cell_type": "code",
     "collapsed": false,
     "input": [
      "print(etree.tostring(hrefs[0], pretty_print=True, encoding='utf-8').decode())"
     ],
     "language": "python",
     "metadata": {},
     "outputs": [
      {
       "output_type": "stream",
       "stream": "stdout",
       "text": [
        "<tr>&#13;\n",
        "\t\t<th width=\"50\">\u9078\u8ab2<br/>\u4ee3\u78bc</th>&#13;\n",
        "\t\t<th>\u79d1\u76ee\u540d\u7a31</th>&#13;\n",
        "\t\t<th>\u958b\u8ab2\u5225</th>&#13;\n",
        "\t\t<th>\u5b78\u5206</th>&#13;\n",
        "\t\t<th>\u671f\u4e2d\u8003</th>&#13;\n",
        "\t\t<th>\u671f\u672b\u8003</th>&#13;\n",
        "\t\t<th>\u63d0\u524d\u8003</th>&#13;\n",
        "&#13;\n",
        "\t\t<th>\u958b\u8ab2\u73ed\u7d1a</th>&#13;\n",
        "&#13;\n",
        "\t\t<th>\u4e0a\u8ab2\u6642\u9593/\u4e0a\u8ab2\u6559\u5ba4/\u6388\u8ab2\u6559\u5e2b</th>&#13;\n",
        "&#13;\n",
        "\t\t<th>\u958b\u653e\u540d\u984d </th>\t&#13;\n",
        "\t\t<th>\u8ab2\u7a0b\u985e\u578b</th>&#13;\n",
        "\t\t<th width=\"150\">\u5099\u8a3b</th>&#13;\n",
        "&#13;\n",
        "   \t</tr>\n",
        "\n"
       ]
      }
     ],
     "prompt_number": 22
    },
    {
     "cell_type": "code",
     "collapsed": false,
     "input": [
      "hrefs[0].xpath('./th[1]')[0].text"
     ],
     "language": "python",
     "metadata": {},
     "outputs": [
      {
       "metadata": {},
       "output_type": "pyout",
       "prompt_number": 33,
       "text": [
        "'\u9078\u8ab2'"
       ]
      }
     ],
     "prompt_number": 33
    },
    {
     "cell_type": "code",
     "collapsed": false,
     "input": [
      "hrefs[0].xpath('./th[4]')[0].text"
     ],
     "language": "python",
     "metadata": {},
     "outputs": [
      {
       "metadata": {},
       "output_type": "pyout",
       "prompt_number": 24,
       "text": [
        "'\u5b78\u5206'"
       ]
      }
     ],
     "prompt_number": 24
    },
    {
     "cell_type": "code",
     "collapsed": false,
     "input": [
      "hrefs[0].xpath('./th[@width=150]')[0].text"
     ],
     "language": "python",
     "metadata": {},
     "outputs": [
      {
       "metadata": {},
       "output_type": "pyout",
       "prompt_number": 25,
       "text": [
        "'\u5099\u8a3b'"
       ]
      }
     ],
     "prompt_number": 25
    },
    {
     "cell_type": "code",
     "collapsed": false,
     "input": [
      "hrefs[0].xpath('./th[@width=150]/text()')[0]"
     ],
     "language": "python",
     "metadata": {},
     "outputs": [
      {
       "metadata": {},
       "output_type": "pyout",
       "prompt_number": 26,
       "text": [
        "'\u5099\u8a3b'"
       ]
      }
     ],
     "prompt_number": 26
    },
    {
     "cell_type": "code",
     "collapsed": false,
     "input": [
      "build_text_list = etree.XPath('./th[@width=150]/text()') # lxml.etree only!\n",
      "build_text_list(hrefs[0])"
     ],
     "language": "python",
     "metadata": {},
     "outputs": [
      {
       "metadata": {},
       "output_type": "pyout",
       "prompt_number": 27,
       "text": [
        "['\u5099\u8a3b']"
       ]
      }
     ],
     "prompt_number": 27
    },
    {
     "cell_type": "code",
     "collapsed": false,
     "input": [
      "for element in hrefs[0].iter():\n",
      "    if isinstance(element.tag, str):\n",
      "        print(\"%s - %s\" % (element.tag, element.text))\n",
      "    else:\n",
      "         print(\"SPECIAL: %s - %s\" % (element, element.text))"
     ],
     "language": "python",
     "metadata": {},
     "outputs": [
      {
       "output_type": "stream",
       "stream": "stdout",
       "text": [
        "tr - \r\n",
        "\t\t\n",
        "th - \u9078\u8ab2\n",
        "br - None\n",
        "th - \u79d1\u76ee\u540d\u7a31\n",
        "th - \u958b\u8ab2\u5225\n",
        "th - \u5b78\u5206\n",
        "th - \u671f\u4e2d\u8003\n",
        "th - \u671f\u672b\u8003\n",
        "th - \u63d0\u524d\u8003\n",
        "th - \u958b\u8ab2\u73ed\u7d1a\n",
        "th - \u4e0a\u8ab2\u6642\u9593/\u4e0a\u8ab2\u6559\u5ba4/\u6388\u8ab2\u6559\u5e2b\n",
        "th - \u958b\u653e\u540d\u984d \n",
        "th - \u8ab2\u7a0b\u985e\u578b\n",
        "th - \u5099\u8a3b\n"
       ]
      }
     ],
     "prompt_number": 28
    },
    {
     "cell_type": "code",
     "collapsed": false,
     "input": [],
     "language": "python",
     "metadata": {},
     "outputs": []
    }
   ],
   "metadata": {}
  }
 ]
}