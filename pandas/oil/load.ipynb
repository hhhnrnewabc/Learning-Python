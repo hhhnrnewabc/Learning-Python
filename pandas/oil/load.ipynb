{
 "metadata": {
  "name": "",
  "signature": "sha256:7c7cb729ceaa3f8453199d0e17489dec91fbc96d3f1c442d2f6643fc7d76bf8e"
 },
 "nbformat": 3,
 "nbformat_minor": 0,
 "worksheets": [
  {
   "cells": [
    {
     "cell_type": "code",
     "collapsed": false,
     "input": [
      "\"\"\"curl -d \"includes=1&oilid=01&oilname=92%B5L%B9%5D%A8T%AAo&category=wDetail&SearchCaption=%A5%AD%A7%A1%BB%F9%AE%E6%A9%FA%B2%D3%B6g%B3%F8%AA%ED&GroupField=are_sample&FieldName=%A9%E2%BC%CB%A5%C0%C5%E9%B0%CF&SearchStatus=Real&PriceStatus=Re&weekid=127&CityNo=&TownNo=&TownName=\" -A \"Mozilla/5.0\" -e \"http://www.moeaboe.gov.tw/oil102/oil1022010/A01/A0101/cpk_setform.asp?setfrm=week\" -iv -o \"127.html\" http://www.moeaboe.gov.tw/oil102/oil1022010/A01/A0101/oilsearch_cpkw.asp\"\"\""
     ],
     "language": "python",
     "metadata": {},
     "outputs": []
    },
    {
     "cell_type": "markdown",
     "metadata": {},
     "source": [
      "\n",
      "####includes:\n",
      "* 0: \u672c\u5cf6\n",
      "* 1: \u96e2\u5cf6\n",
      "* 2: \u5c71\u5730\n",
      "\n",
      "<font color=\"#000000\" size=\"3\" face=\"Verdana, \u65b0\u7d30\u660e\u9ad4\">\n",
      "    <input type=\"radio\" value=\"1\" checked=\"\" name=\"includes\">\u672c\u5cf6\n",
      "    <input type=\"radio\" value=\"3\" name=\"includes\">\n",
      "    \u96e2\u5cf6\u3000 \n",
      "    <input type=\"radio\" value=\"2\" name=\"includes\">\n",
      "    \u5c71\u5730\n",
      "</font>\n",
      "\n",
      "####oilid:\n",
      "* 01 \u4e5d\u4e8c\u7121\u925b\u6c7d\u6cb9\n",
      "* 02 \u4e5d\u4e94\u7121\u925b\u6c7d\u6cb9\n",
      "* 03 \u4e5d\u516b\u7121\u925b\u6c7d\u6cb9\n",
      "* 04 \u8d85(\u9ad8)\u7d1a\u67f4\u6cb9\n",
      "\n",
      "<select name=\"oilid\" size=\"1\">\n",
      "    <option selected=\"\" value=\"01\">\u4e5d\u4e8c\u7121\u925b\u6c7d\u6cb9</option>\n",
      "    <option value=\"02\">\u4e5d\u4e94\u7121\u925b\u6c7d\u6cb9</option>\n",
      "    <option value=\"03\">\u4e5d\u516b\u7121\u925b\u6c7d\u6cb9</option>\n",
      "    <option value=\"04\">\u8d85(\u9ad8)\u7d1a\u67f4\u6cb9</option>\n",
      "</select>\n",
      "\n",
      "####oilname:\n",
      "* 92\u7121\u925b\u6c7d\u6cb9 92%B5L%B9%5D%A8T%AAo\n",
      "* 95\u7121\u925b\u6c7d\u6cb9 95%B5L%B9%5D%A8T%AAo\n",
      "* 98\u7121\u925b\u6c7d\u6cb9 98%B5L%B9%5D%A8T%AAo\n",
      "* \u8d85(\u9ad8)\u7d1a\u67f4\u6cb9 %B6W%28%B0%AA%29%AF%C5%AE%E3%AAo\n",
      "\n",
      "####category:\n",
      "\n",
      "####SearchCaption:"
     ]
    },
    {
     "cell_type": "code",
     "collapsed": false,
     "input": [
      "import subprocess\n",
      "import os, time"
     ],
     "language": "python",
     "metadata": {},
     "outputs": [],
     "prompt_number": 1
    },
    {
     "cell_type": "code",
     "collapsed": false,
     "input": [
      "oils = [('92%B5L%B9%5D%A8T%AAo', '01'),\n",
      "        ('95%B5L%B9%5D%A8T%AAo', '02'),\n",
      "        ('98%B5L%B9%5D%A8T%AAo', '03'),\n",
      "        ('%B6W%28%B0%AA%29%AF%C5%AE%E3%AAo', '04')]"
     ],
     "language": "python",
     "metadata": {},
     "outputs": [],
     "prompt_number": 2
    },
    {
     "cell_type": "code",
     "collapsed": false,
     "input": [
      "cmd =  \"\"\"curl -d \"includes=1&oilid={oil_num}&oilname={oil_name}&category=wDetail&SearchCaption=%A5%AD%A7%A1%BB%F9%AE%E6%A9%FA%B2%D3%B6g%B3%F8%AA%ED&GroupField=are_sample&FieldName=%A9%E2%BC%CB%A5%C0%C5%E9%B0%CF&SearchStatus=Real&PriceStatus=Re&weekid={week_num}&CityNo=&TownNo=&TownName=\" -A \"Mozilla/5.0\" -e \"http://www.moeaboe.gov.tw/oil102/oil1022010/A01/A0101/cpk_setform.asp?setfrm=week\" -iv -o \"{week_num}.html\" http://www.moeaboe.gov.tw/oil102/oil1022010/A01/A0101/oilsearch_cpkw.asp\"\"\""
     ],
     "language": "python",
     "metadata": {},
     "outputs": [],
     "prompt_number": 3
    },
    {
     "cell_type": "code",
     "collapsed": false,
     "input": [
      "start_week = 689\n",
      "end_week = 761+1\n",
      "\n",
      "week_total = end_week - start_week\n",
      "\n",
      "print(\"\u958b\u59cb\u6293\u53d6\u8cc7\u6599 \u7e3d\u8a08 %4d \u7b46\" % week_total)\n",
      "\n",
      "for week_num in range(start_week,end_week):\n",
      "    for oil_name, oil_num in oils:\n",
      "        subprocess.Popen(cmd.format(oil_num=oil_num,\n",
      "                                    oil_name=oil_name,\n",
      "                                    week_num=week_num), shell=True)\n",
      "        time.sleep(0.1)\n",
      "    if (week_num % (week_total // 10)) == 0: \n",
      "        print(\"...%d\" % (week_num/(week_total // 10)*10),end='')"
     ],
     "language": "python",
     "metadata": {},
     "outputs": [
      {
       "output_type": "stream",
       "stream": "stdout",
       "text": [
        "\u958b\u59cb\u6293\u53d6\u8cc7\u6599 \u7e3d\u8a08    1 \u7b46\n"
       ]
      }
     ],
     "prompt_number": 8
    },
    {
     "cell_type": "code",
     "collapsed": false,
     "input": [],
     "language": "python",
     "metadata": {},
     "outputs": []
    }
   ],
   "metadata": {}
  }
 ]
}