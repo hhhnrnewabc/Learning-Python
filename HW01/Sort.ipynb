{
 "metadata": {
  "name": "",
  "signature": "sha256:9f80e48053cc5ba53eb707ed691dfbb9d638bc5a97e2399a24b70f0983a91278"
 },
 "nbformat": 3,
 "nbformat_minor": 0,
 "worksheets": [
  {
   "cells": [
    {
     "cell_type": "code",
     "collapsed": false,
     "input": [
      "import random\n",
      "import time\n",
      "\n",
      "def make_random_ints(num, lower_bound, upper_bound):\n",
      "    \"\"\"\n",
      "    Generate a list containing num random ints between lower_bound\n",
      "    and upper_bound. upper_bound is an open bound.\n",
      "    \"\"\"\n",
      "    rng = random.Random()  # Create a random number generator\n",
      "    result = []\n",
      "    for i in range(num):\n",
      "        result.append(rng.randrange(lower_bound, upper_bound))\n",
      "    return result"
     ],
     "language": "python",
     "metadata": {},
     "outputs": [],
     "prompt_number": 1
    },
    {
     "cell_type": "code",
     "collapsed": false,
     "input": [
      "raw_list = make_random_ints(10000,0,1000)\n",
      "print(raw_list[:20])\n",
      "bu_list = list(raw_list)\n",
      "s_list = list(raw_list)\n",
      "q_list = list(raw_list)"
     ],
     "language": "python",
     "metadata": {},
     "outputs": []
    },
    {
     "cell_type": "code",
     "collapsed": false,
     "input": [
      "def bubble(bad_list):\n",
      "    length = len(bad_list) - 1\n",
      "    sorted = False\n",
      "\n",
      "    while not sorted:\n",
      "        sorted = True\n",
      "        for i in range(length):\n",
      "            if bad_list[i] > bad_list[i+1]:\n",
      "                sorted = False\n",
      "                bad_list[i], bad_list[i+1] = bad_list[i+1], bad_list[i]"
     ],
     "language": "python",
     "metadata": {},
     "outputs": [],
     "prompt_number": 2
    },
    {
     "cell_type": "code",
     "collapsed": false,
     "input": [
      "def selection(source):\n",
      "    for i in range(len(source)):\n",
      "        mini = min(source[i:]) #find minimum element\n",
      "        min_index = source[i:].index(mini) #find index of minimum element\n",
      "        source[i + min_index] = source[i] #replace element at min_index with first element\n",
      "        source[i] = mini "
     ],
     "language": "python",
     "metadata": {},
     "outputs": [],
     "prompt_number": 3
    },
    {
     "cell_type": "code",
     "collapsed": false,
     "input": [
      "def qsort(list):\n",
      "    \"\"\"Quicksort using list comprehensions\"\"\"\n",
      "    if list == []: \n",
      "        return []\n",
      "    else:\n",
      "        pivot = list[0]\n",
      "        lesser = qsort([x for x in list[1:] if x < pivot])\n",
      "        greater = qsort([x for x in list[1:] if x >= pivot])\n",
      "        return lesser + [pivot] + greater"
     ],
     "language": "python",
     "metadata": {},
     "outputs": [],
     "prompt_number": 4
    },
    {
     "cell_type": "code",
     "collapsed": false,
     "input": [
      "tb0 = time.time()\n",
      "bubble(bu_list)\n",
      "tb1 = time.time()\n",
      "print(\"\u7e3d\u5171\u8cbb\u6642\", \"%.4f\" % (tb1-tb0), \"\u79d2\")"
     ],
     "language": "python",
     "metadata": {},
     "outputs": []
    },
    {
     "cell_type": "code",
     "collapsed": false,
     "input": [
      "ts0 = time.time()\n",
      "selection(s_list)\n",
      "ts1 = time.time()\n",
      "print(\"\u7e3d\u5171\u8cbb\u6642\", \"%.4f\" % (ts1-ts0), \"\u79d2\")"
     ],
     "language": "python",
     "metadata": {},
     "outputs": []
    },
    {
     "cell_type": "code",
     "collapsed": false,
     "input": [
      "tq0 = time.time()\n",
      "qsort(q_list)\n",
      "tq1 = time.time()\n",
      "print(\"\u7e3d\u5171\u8cbb\u6642\", \"%.4f\" % (tq1-tq0), \"\u79d2\")"
     ],
     "language": "python",
     "metadata": {},
     "outputs": []
    },
    {
     "cell_type": "code",
     "collapsed": false,
     "input": [
      "def are_eq(a, b):\n",
      "    return set(a) == set(b) and len(a) == len(b)"
     ],
     "language": "python",
     "metadata": {},
     "outputs": [],
     "prompt_number": 5
    },
    {
     "cell_type": "code",
     "collapsed": false,
     "input": [
      "are_eq(bu_list,q_list)"
     ],
     "language": "python",
     "metadata": {},
     "outputs": []
    },
    {
     "cell_type": "code",
     "collapsed": false,
     "input": [
      "are_eq(bu_list,s_list)"
     ],
     "language": "python",
     "metadata": {},
     "outputs": []
    },
    {
     "cell_type": "code",
     "collapsed": false,
     "input": [
      "def avg(list):\n",
      "    t = 0.0\n",
      "    for i in list:\n",
      "        t +=  i\n",
      "    return (t / len(list))"
     ],
     "language": "python",
     "metadata": {},
     "outputs": [],
     "prompt_number": 6
    },
    {
     "cell_type": "code",
     "collapsed": false,
     "input": [
      "def count_sorting_time(raw_list, fn):\n",
      "    tmp_list = list(raw_list)\n",
      "    start_time = time.time()\n",
      "    fn(tmp_list)\n",
      "    end_time = time.time()\n",
      "    return tmp_list, (end_time-start_time)"
     ],
     "language": "python",
     "metadata": {},
     "outputs": [],
     "prompt_number": 7
    },
    {
     "cell_type": "code",
     "collapsed": false,
     "input": [
      "x = []\n",
      "y_b = []\n",
      "y_s = []\n",
      "y_q = []\n",
      "\n",
      "for times in range(100,1000, 100):\n",
      "    t0 = time.time()\n",
      "    b_time_list = []\n",
      "    s_time_list = []\n",
      "    q_time_list = []\n",
      "    for i in range(100):\n",
      "        raw_list = make_random_ints(times,0,10000)\n",
      "        \n",
      "        bu_list, t = count_sorting_time(raw_list, bubble)\n",
      "        b_time_list.append(t)\n",
      "        \n",
      "        s_list , t = count_sorting_time(raw_list, selection)\n",
      "        s_time_list.append(t)\n",
      "        \n",
      "        q_list, t = count_sorting_time(raw_list, qsort)\n",
      "        q_time_list.append(t)\n",
      "        \n",
      "        #assert are_eq(bu_list,q_list)\n",
      "        #assert are_eq(bu_list,s_list)\n",
      "        del raw_list\n",
      "        del bu_list\n",
      "        del s_list\n",
      "        del q_list\n",
      "        \n",
      "    avg_b = avg(b_time_list)\n",
      "    avg_s = avg(s_time_list)\n",
      "    avg_q = avg(q_time_list)\n",
      "    \n",
      "    x.append(times)\n",
      "    y_b.append(avg_b)\n",
      "    y_s.append(avg_s)\n",
      "    y_q.append(avg_q)\n",
      "    t1 = time.time()\n",
      "    print('%5d,' % times, ' %12.4f \u79d2' % (t1-t0) )"
     ],
     "language": "python",
     "metadata": {},
     "outputs": [
      {
       "output_type": "stream",
       "stream": "stdout",
       "text": [
        "  100,        0.3196 \u79d2\n",
        "  200,"
       ]
      },
      {
       "output_type": "stream",
       "stream": "stdout",
       "text": [
        "        1.1245 \u79d2\n",
        "  300,"
       ]
      },
      {
       "output_type": "stream",
       "stream": "stdout",
       "text": [
        "        2.4291 \u79d2\n",
        "  400,"
       ]
      },
      {
       "output_type": "stream",
       "stream": "stdout",
       "text": [
        "        4.2928 \u79d2\n",
        "  500,"
       ]
      },
      {
       "output_type": "stream",
       "stream": "stdout",
       "text": [
        "        6.6929 \u79d2\n",
        "  600,"
       ]
      },
      {
       "output_type": "stream",
       "stream": "stdout",
       "text": [
        "        9.3916 \u79d2\n",
        "  700,"
       ]
      },
      {
       "output_type": "stream",
       "stream": "stdout",
       "text": [
        "       13.2369 \u79d2\n",
        "  800,"
       ]
      },
      {
       "output_type": "stream",
       "stream": "stdout",
       "text": [
        "       17.3811 \u79d2\n",
        "  900,"
       ]
      },
      {
       "output_type": "stream",
       "stream": "stdout",
       "text": [
        "       21.4441 \u79d2\n"
       ]
      }
     ],
     "prompt_number": 8
    },
    {
     "cell_type": "code",
     "collapsed": false,
     "input": [
      "import pickle\n",
      "with open(\"2000_3000_data\", \"wb\") as outfile: \n",
      "    pickle.dump({\"X\":x, \"Y_b\":y_b, \"Y_s\":y_s, \"Y_q\":y_q}, outfile)"
     ],
     "language": "python",
     "metadata": {},
     "outputs": []
    },
    {
     "cell_type": "code",
     "collapsed": false,
     "input": [
      "# -*- coding: utf-8 -*-\n",
      "%matplotlib inline\n",
      "\n",
      "font = {'fontname':'LiHei Pro', 'fontsize':14}\n",
      "\n",
      "import matplotlib.pyplot as plt\n",
      "\n",
      "plt.rcParams['font.sans-serif'] = ['LiHei Pro']\n",
      "\n",
      "fig, ax = plt.subplots()\n",
      "\n",
      "ax.plot(x, y_b, label=\"bubble\")\n",
      "\n",
      "ax.plot(x, y_s, label=\"selection\")\n",
      "\n",
      "ax.plot(x, y_q, label=\"quick\")\n",
      "ax.legend(loc=2); # upper left corner\n",
      "ax.set_xlabel(\"\u6578\u91cf\",font)\n",
      "ax.set_ylabel(\"\u6642\u9593(\u79d2)\", font)\n",
      "ax.set_title('\u6a19\u984c')\n",
      "\n",
      "#ax.axis([0, 500, 0, 20])\n",
      "plt.show()"
     ],
     "language": "python",
     "metadata": {},
     "outputs": [
      {
       "metadata": {},
       "output_type": "display_data",
       "png": "[encoded data removed]",
       "text": [
        "<matplotlib.figure.Figure at 0x1086756a0>"
       ]
      }
     ],
     "prompt_number": 9
    },
    {
     "cell_type": "code",
     "collapsed": false,
     "input": [],
     "language": "python",
     "metadata": {},
     "outputs": []
    }
   ],
   "metadata": {}
  }
 ]
}